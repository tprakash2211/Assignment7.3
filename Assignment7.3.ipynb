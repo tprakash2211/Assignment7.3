{
 "cells": [
  {
   "cell_type": "code",
   "execution_count": null,
   "metadata": {
    "collapsed": true
   },
   "outputs": [],
   "source": [
    "# Problem Statement 1:\n",
    "# Two balls are drawn at random in succession without replacement from an urn containing 4 red balls and 6 black balls. \n",
    "# Find the probabilities of all the possible outcomes.\n",
    "\n",
    "Probabilities are determined as below:\n",
    "\n",
    "Probability of not getting a Red ball in the first draw P(A) = (6/10) = 0.60\n",
    "Probability of not getting a Red ball in the second draw P(B/A) = (5/9) = 0.56\n",
    "Probability of getting atleast one ball is Red ball = 1 - P(A) * P(B/A) = 1 - (6/10)*(5/9) = 0.66\n",
    "\n",
    "Probability of not getting a Black ball in the first draw P(B) = (4/10) = 0.40\n",
    "Probability of not getting a Black ball in the second draw P(A/B) = (3/9) = 0.33\n",
    "Probability of getting atleast one ball is Black ball = 1 - P(B) * P(A/B) = 1 - (4/10)*(3/9) = 0.87\n"
   ]
  }
 ],
 "metadata": {
  "kernelspec": {
   "display_name": "Python 3",
   "language": "python",
   "name": "python3"
  },
  "language_info": {
   "codemirror_mode": {
    "name": "ipython",
    "version": 3
   },
   "file_extension": ".py",
   "mimetype": "text/x-python",
   "name": "python",
   "nbconvert_exporter": "python",
   "pygments_lexer": "ipython3",
   "version": "3.6.3"
  }
 },
 "nbformat": 4,
 "nbformat_minor": 2
}
